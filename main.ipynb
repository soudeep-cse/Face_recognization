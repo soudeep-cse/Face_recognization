{
 "cells": [
  {
   "cell_type": "markdown",
   "id": "5225b53c",
   "metadata": {},
   "source": [
    "# Capture data from webcam"
   ]
  },
  {
   "cell_type": "code",
   "execution_count": null,
   "id": "1db5ae77",
   "metadata": {},
   "outputs": [
    {
     "name": "stdout",
     "output_type": "stream",
     "text": [
      "Collecting samples is completed....\n"
     ]
    }
   ],
   "source": [
    "import cv2\n",
    " \n",
    "def generate_dataset():\n",
    "    face_classifier = cv2.CascadeClassifier(r\"D:/Deep_learning_project/Face_recognization/haarcascade_frontalface_default.xml\")\n",
    "    \n",
    "    def face_cropped(img):\n",
    "        gray = cv2.cvtColor(img, cv2.COLOR_BGR2GRAY)\n",
    "        faces = face_classifier.detectMultiScale(gray, 1.3, 5)  # 1.3 is the scale factor, 5 is the minimum neighbor\n",
    "         \n",
    "        if len(faces) == 0:\n",
    "            return None\n",
    "        \n",
    "        for (x, y, w, h) in faces:\n",
    "            cropped_face = img[y:y+h, x:x+w]\n",
    "        return cropped_face\n",
    "    \n",
    "    cap = cv2.VideoCapture(0)\n",
    "    id = 2  # User ID\n",
    "    img_id = 0  # Image ID for each capture\n",
    "     \n",
    "    while True:\n",
    "        ret, frame = cap.read()\n",
    "        if face_cropped(frame) is not None:\n",
    "            img_id += 1\n",
    "            cropped_face = face_cropped(frame)\n",
    "            flipped_face = cv2.flip(cropped_face, 1)  # Flip the cropped face horizontally\n",
    "            resized_face = cv2.resize(flipped_face, (300, 300))  # Resize the face\n",
    "            gray_face = cv2.cvtColor(resized_face, cv2.COLOR_BGR2GRAY)  # Convert to grayscale\n",
    "            \n",
    "            # Define the file path where the image will be saved\n",
    "            file_name_path = (r\"D:/Deep_learning_project/Face_recognization/dataste/user.\" + str(id) + \".\" + str(img_id) + \".jpg\")\n",
    "            cv2.imwrite(file_name_path, gray_face)  # Save the face image\n",
    "            \n",
    "            # Add image ID as text on the image\n",
    "            cv2.putText(gray_face, str(img_id), (50, 50), cv2.FONT_HERSHEY_COMPLEX, 1, (0, 255, 0), 2)\n",
    "             \n",
    "            # Show the cropped face in a window\n",
    "            cv2.imshow(\"Face_Cropped\", gray_face)\n",
    "             \n",
    "        if cv2.waitKey(1) == 13 or int(img_id) == 200:  # Stop when 'Enter' key is pressed or 200 images are captured\n",
    "            break\n",
    "             \n",
    "    cap.release()\n",
    "    cv2.destroyAllWindows()\n",
    "    print(\"Collecting samples is completed....\")\n",
    "\n",
    "generate_dataset()"
   ]
  },
  {
   "cell_type": "markdown",
   "id": "209b6550",
   "metadata": {},
   "source": [
    "# Frame generation from video"
   ]
  },
  {
   "cell_type": "code",
   "execution_count": 8,
   "id": "f1ef224e",
   "metadata": {},
   "outputs": [
    {
     "name": "stdout",
     "output_type": "stream",
     "text": [
      "Process completed. Frames and faces are saved in D:/Deep_learning_project/Face_recognization/dataste.\n"
     ]
    }
   ],
   "source": [
    "import cv2\n",
    "\n",
    "def generate_faces_from_video(video_path, output_folder):\n",
    "    face_classifier = cv2.CascadeClassifier(r\"D:/Deep_learning_project/Face_recognization/haarcascade_frontalface_default.xml\")\n",
    "\n",
    "    cap = cv2.VideoCapture(video_path)\n",
    "    \n",
    "    count = 90 \n",
    "    img_id = 90\n",
    "    \n",
    "    if not cap.isOpened():\n",
    "        print(\"Error: Could not open video.\")\n",
    "        return\n",
    "    \n",
    "    while cap.isOpened():\n",
    "        ret, frame = cap.read()\n",
    "        \n",
    "        if not ret:\n",
    "            break\n",
    "\n",
    "        count += 1\n",
    "        if count == 200:\n",
    "            break\n",
    "        \n",
    "        gray_frame = cv2.cvtColor(frame, cv2.COLOR_BGR2GRAY)\n",
    "        \n",
    "        faces = face_classifier.detectMultiScale(gray_frame, scaleFactor=1.3, minNeighbors=5)\n",
    "\n",
    "        for (x, y, w, h) in faces:\n",
    "            cropped_face = frame[y:y + h, x:x + w]\n",
    "            \n",
    "            resized_face = cv2.resize(cropped_face, (300, 300))\n",
    "\n",
    "            gray_face = cv2.cvtColor(resized_face, cv2.COLOR_BGR2GRAY)\n",
    "\n",
    "            img_id += 1\n",
    "            file_name_path = f\"{output_folder}/user.2.{img_id}.jpg\"\n",
    "            cv2.imwrite(file_name_path, gray_face)\n",
    " \n",
    "            cv2.putText(gray_face, f\"{img_id}\", (50, 50), cv2.FONT_HERSHEY_SIMPLEX, 1, (0, 255, 0), 2)\n",
    "\n",
    "            cv2.imshow(\"Cropped Face\", gray_face)\n",
    "      \n",
    "        if count % 5 == 0: \n",
    "            frame_filename = f\"{output_folder}/Frame_{count}.jpg\"\n",
    "            cv2.imwrite(frame_filename, frame)\n",
    "\n",
    "        if cv2.waitKey(1) & 0xFF == ord('q'):\n",
    "            break\n",
    "\n",
    "    cap.release()\n",
    "    cv2.destroyAllWindows()\n",
    "\n",
    "    print(f\"Process completed. Frames and faces are saved in {output_folder}.\")\n",
    "\n",
    "video_path = r\"D:/Deep_learning_project/Face_recognization/face_video_1.mp4\"\n",
    "output_folder = r\"D:/Deep_learning_project/Face_recognization/dataste\"\n",
    "\n",
    "generate_faces_from_video(video_path, output_folder)\n"
   ]
  },
  {
   "cell_type": "markdown",
   "id": "4c6598db",
   "metadata": {},
   "source": [
    "# Train calssifier and save"
   ]
  },
  {
   "cell_type": "code",
   "execution_count": 9,
   "id": "14f8d1f5",
   "metadata": {},
   "outputs": [],
   "source": [
    "import numpy as np\n",
    "from PIL import Image\n",
    "import os"
   ]
  },
  {
   "cell_type": "code",
   "execution_count": 10,
   "id": "083c76ed",
   "metadata": {},
   "outputs": [
    {
     "name": "stdout",
     "output_type": "stream",
     "text": [
      "Model trained successfully.\n"
     ]
    }
   ],
   "source": [
    "def train_classifier(data_dir):\n",
    "    path = [os.path.join(data_dir,f) for f in os.listdir(data_dir)]\n",
    "    faces = []\n",
    "    ids = []\n",
    "\n",
    "    for image in path:\n",
    "        img = Image.open(image).convert(\"L\")\n",
    "        imageNp = np.array(img, 'uint8')\n",
    "        id = int(os.path.split(image)[1].split(\".\")[1])\n",
    "\n",
    "        faces.append(imageNp)\n",
    "        ids.append(id)\n",
    "    ids = np.array(ids)\n",
    "\n",
    "    # Generate a face recognition model\n",
    "    recognizer = cv2.face.LBPHFaceRecognizer_create()\n",
    "    recognizer.train(faces,ids)\n",
    "    recognizer.save(\"classifier.xml\")\n",
    "    print(\"Model trained successfully.\")\n",
    "train_classifier(r\"D:/Deep_learning_project/Face_recognization/dataste\")        "
   ]
  },
  {
   "cell_type": "code",
   "execution_count": null,
   "id": "e453d030",
   "metadata": {},
   "outputs": [],
   "source": [
    "import cv2\n",
    "import numpy as np\n",
    "from PIL import Image\n",
    "import os\n",
    "\n",
    "def draw_boundary(img, classifier, scaleFactor, minNeighbors, color, text, clf):\n",
    "    gray_img = cv2.cvtColor(img, cv2.COLOR_BGR2GRAY)\n",
    "    features = classifier.detectMultiScale(gray_img, scaleFactor, minNeighbors)\n",
    "    \n",
    "    for (x,y,w,h) in features:\n",
    "        cv2.rectangle(img, (x,y), (x+w,y+h), color, 2 )\n",
    "         \n",
    "        id, pred = clf.predict(gray_img[y:y+h,x:x+w])\n",
    "        confidence = int(100*(1-pred/300))\n",
    "         \n",
    "        if confidence>70:\n",
    "            if id==1:\n",
    "                cv2.putText(img, \"Soudeep\", (x,y-5), cv2.FONT_HERSHEY_SIMPLEX, 0.8, color, 1, cv2.LINE_AA)\n",
    "            if id==2:\n",
    "                cv2.putText(img, \"Fahim\", (x,y-5), cv2.FONT_HERSHEY_SIMPLEX, 0.8, color, 1, cv2.LINE_AA)\n",
    "        else:\n",
    "            cv2.putText(img, \"Unknown\", (x,y-5), cv2.FONT_HERSHEY_SIMPLEX, 0.8, (0,0,255), 1, cv2.LINE_AA)\n",
    "     \n",
    "    return img\n",
    " \n",
    "# loading classifier\n",
    "faceCascade = cv2.CascadeClassifier(r\"D:/Deep_learning_project/Face_recognization/haarcascade_frontalface_default.xml\")\n",
    " \n",
    "clf = cv2.face.LBPHFaceRecognizer_create()\n",
    "clf.read(r\"D:/Deep_learning_project/Face_recognization/classifier.xml\")\n",
    " \n",
    "video_capture = cv2.VideoCapture(0)\n",
    " \n",
    "while True:\n",
    "    ret, img = video_capture.read()\n",
    "    img = cv2.flip(img,1)\n",
    "    img = draw_boundary(img, faceCascade, 1.3, 6, (255,255,255), \"Face\", clf)\n",
    "    cv2.imshow(\"face Detection\", img)\n",
    "     \n",
    "    if cv2.waitKey(1)==13:\n",
    "        break\n",
    "video_capture.release()\n",
    "cv2.destroyAllWindows()"
   ]
  },
  {
   "cell_type": "code",
   "execution_count": null,
   "id": "66341996",
   "metadata": {},
   "outputs": [],
   "source": []
  },
  {
   "cell_type": "code",
   "execution_count": null,
   "metadata": {},
   "outputs": [],
   "source": []
  }
 ],
 "metadata": {
  "kernelspec": {
   "display_name": "myEnv",
   "language": "python",
   "name": "python3"
  },
  "language_info": {
   "codemirror_mode": {
    "name": "ipython",
    "version": 3
   },
   "file_extension": ".py",
   "mimetype": "text/x-python",
   "name": "python",
   "nbconvert_exporter": "python",
   "pygments_lexer": "ipython3",
   "version": "3.9.13"
  }
 },
 "nbformat": 4,
 "nbformat_minor": 5
}
